{
 "cells": [
  {
   "cell_type": "markdown",
   "metadata": {},
   "source": [
    "### Dataset::https://www.kaggle.com/datasets/kmader/skin-cancer-mnist-ham10000 "
   ]
  },
  {
   "cell_type": "code",
   "execution_count": 3,
   "metadata": {
    "_cell_guid": "b1076dfc-b9ad-4769-8c92-a6c4dae69d19",
    "_uuid": "8f2839f25d086af736a60e9eeb907d3b93b6e0e5",
    "execution": {
     "iopub.execute_input": "2023-06-20T04:35:51.255927Z",
     "iopub.status.busy": "2023-06-20T04:35:51.255556Z",
     "iopub.status.idle": "2023-06-20T04:35:51.263601Z",
     "shell.execute_reply": "2023-06-20T04:35:51.262438Z",
     "shell.execute_reply.started": "2023-06-20T04:35:51.255902Z"
    }
   },
   "outputs": [],
   "source": [
    "# Required Libraries\n",
    "\n",
    "import pandas as pd\n",
    "import numpy as np\n",
    "import tensorflow as tf\n",
    "from tensorflow import keras\n",
    "from sklearn.model_selection import train_test_split\n",
    "from tensorflow.keras.layers import Conv2D, MaxPool2D, Flatten, Dense, Dropout\n",
    "from tensorflow.keras.models import Sequential\n",
    "from tensorflow.keras.callbacks import EarlyStopping\n",
    "from sklearn.preprocessing import MinMaxScaler\n",
    "from sklearn.metrics import accuracy_score,recall_score, confusion_matrix, classification_report\n",
    "\n",
    "from imblearn.over_sampling import SMOTE\n",
    "from imblearn.under_sampling import RandomUnderSampler\n",
    "\n",
    "import warnings\n",
    "warnings.filterwarnings('ignore')"
   ]
  },
  {
   "cell_type": "code",
   "execution_count": 4,
   "metadata": {
    "execution": {
     "iopub.execute_input": "2023-06-20T04:35:52.727366Z",
     "iopub.status.busy": "2023-06-20T04:35:52.726937Z",
     "iopub.status.idle": "2023-06-20T04:35:57.882912Z",
     "shell.execute_reply": "2023-06-20T04:35:57.881850Z",
     "shell.execute_reply.started": "2023-06-20T04:35:52.727330Z"
    }
   },
   "outputs": [
    {
     "data": {
      "text/html": [
       "<div>\n",
       "<style scoped>\n",
       "    .dataframe tbody tr th:only-of-type {\n",
       "        vertical-align: middle;\n",
       "    }\n",
       "\n",
       "    .dataframe tbody tr th {\n",
       "        vertical-align: top;\n",
       "    }\n",
       "\n",
       "    .dataframe thead th {\n",
       "        text-align: right;\n",
       "    }\n",
       "</style>\n",
       "<table border=\"1\" class=\"dataframe\">\n",
       "  <thead>\n",
       "    <tr style=\"text-align: right;\">\n",
       "      <th></th>\n",
       "      <th>pixel0000</th>\n",
       "      <th>pixel0001</th>\n",
       "      <th>pixel0002</th>\n",
       "      <th>pixel0003</th>\n",
       "      <th>pixel0004</th>\n",
       "      <th>pixel0005</th>\n",
       "      <th>pixel0006</th>\n",
       "      <th>pixel0007</th>\n",
       "      <th>pixel0008</th>\n",
       "      <th>pixel0009</th>\n",
       "      <th>...</th>\n",
       "      <th>pixel2343</th>\n",
       "      <th>pixel2344</th>\n",
       "      <th>pixel2345</th>\n",
       "      <th>pixel2346</th>\n",
       "      <th>pixel2347</th>\n",
       "      <th>pixel2348</th>\n",
       "      <th>pixel2349</th>\n",
       "      <th>pixel2350</th>\n",
       "      <th>pixel2351</th>\n",
       "      <th>label</th>\n",
       "    </tr>\n",
       "  </thead>\n",
       "  <tbody>\n",
       "    <tr>\n",
       "      <th>0</th>\n",
       "      <td>192</td>\n",
       "      <td>153</td>\n",
       "      <td>193</td>\n",
       "      <td>195</td>\n",
       "      <td>155</td>\n",
       "      <td>192</td>\n",
       "      <td>197</td>\n",
       "      <td>154</td>\n",
       "      <td>185</td>\n",
       "      <td>202</td>\n",
       "      <td>...</td>\n",
       "      <td>173</td>\n",
       "      <td>124</td>\n",
       "      <td>138</td>\n",
       "      <td>183</td>\n",
       "      <td>147</td>\n",
       "      <td>166</td>\n",
       "      <td>185</td>\n",
       "      <td>154</td>\n",
       "      <td>177</td>\n",
       "      <td>2</td>\n",
       "    </tr>\n",
       "    <tr>\n",
       "      <th>1</th>\n",
       "      <td>25</td>\n",
       "      <td>14</td>\n",
       "      <td>30</td>\n",
       "      <td>68</td>\n",
       "      <td>48</td>\n",
       "      <td>75</td>\n",
       "      <td>123</td>\n",
       "      <td>93</td>\n",
       "      <td>126</td>\n",
       "      <td>158</td>\n",
       "      <td>...</td>\n",
       "      <td>60</td>\n",
       "      <td>39</td>\n",
       "      <td>55</td>\n",
       "      <td>25</td>\n",
       "      <td>14</td>\n",
       "      <td>28</td>\n",
       "      <td>25</td>\n",
       "      <td>14</td>\n",
       "      <td>27</td>\n",
       "      <td>2</td>\n",
       "    </tr>\n",
       "    <tr>\n",
       "      <th>2</th>\n",
       "      <td>192</td>\n",
       "      <td>138</td>\n",
       "      <td>153</td>\n",
       "      <td>200</td>\n",
       "      <td>145</td>\n",
       "      <td>163</td>\n",
       "      <td>201</td>\n",
       "      <td>142</td>\n",
       "      <td>160</td>\n",
       "      <td>206</td>\n",
       "      <td>...</td>\n",
       "      <td>167</td>\n",
       "      <td>129</td>\n",
       "      <td>143</td>\n",
       "      <td>159</td>\n",
       "      <td>124</td>\n",
       "      <td>142</td>\n",
       "      <td>136</td>\n",
       "      <td>104</td>\n",
       "      <td>117</td>\n",
       "      <td>2</td>\n",
       "    </tr>\n",
       "    <tr>\n",
       "      <th>3</th>\n",
       "      <td>38</td>\n",
       "      <td>19</td>\n",
       "      <td>30</td>\n",
       "      <td>95</td>\n",
       "      <td>59</td>\n",
       "      <td>72</td>\n",
       "      <td>143</td>\n",
       "      <td>103</td>\n",
       "      <td>119</td>\n",
       "      <td>171</td>\n",
       "      <td>...</td>\n",
       "      <td>44</td>\n",
       "      <td>26</td>\n",
       "      <td>36</td>\n",
       "      <td>25</td>\n",
       "      <td>12</td>\n",
       "      <td>17</td>\n",
       "      <td>25</td>\n",
       "      <td>12</td>\n",
       "      <td>15</td>\n",
       "      <td>2</td>\n",
       "    </tr>\n",
       "    <tr>\n",
       "      <th>4</th>\n",
       "      <td>158</td>\n",
       "      <td>113</td>\n",
       "      <td>139</td>\n",
       "      <td>194</td>\n",
       "      <td>144</td>\n",
       "      <td>174</td>\n",
       "      <td>215</td>\n",
       "      <td>162</td>\n",
       "      <td>191</td>\n",
       "      <td>225</td>\n",
       "      <td>...</td>\n",
       "      <td>209</td>\n",
       "      <td>166</td>\n",
       "      <td>185</td>\n",
       "      <td>172</td>\n",
       "      <td>135</td>\n",
       "      <td>149</td>\n",
       "      <td>109</td>\n",
       "      <td>78</td>\n",
       "      <td>92</td>\n",
       "      <td>2</td>\n",
       "    </tr>\n",
       "  </tbody>\n",
       "</table>\n",
       "<p>5 rows × 2353 columns</p>\n",
       "</div>"
      ],
      "text/plain": [
       "   pixel0000  pixel0001  pixel0002  pixel0003  pixel0004  pixel0005  \\\n",
       "0        192        153        193        195        155        192   \n",
       "1         25         14         30         68         48         75   \n",
       "2        192        138        153        200        145        163   \n",
       "3         38         19         30         95         59         72   \n",
       "4        158        113        139        194        144        174   \n",
       "\n",
       "   pixel0006  pixel0007  pixel0008  pixel0009  ...  pixel2343  pixel2344  \\\n",
       "0        197        154        185        202  ...        173        124   \n",
       "1        123         93        126        158  ...         60         39   \n",
       "2        201        142        160        206  ...        167        129   \n",
       "3        143        103        119        171  ...         44         26   \n",
       "4        215        162        191        225  ...        209        166   \n",
       "\n",
       "   pixel2345  pixel2346  pixel2347  pixel2348  pixel2349  pixel2350  \\\n",
       "0        138        183        147        166        185        154   \n",
       "1         55         25         14         28         25         14   \n",
       "2        143        159        124        142        136        104   \n",
       "3         36         25         12         17         25         12   \n",
       "4        185        172        135        149        109         78   \n",
       "\n",
       "   pixel2351  label  \n",
       "0        177      2  \n",
       "1         27      2  \n",
       "2        117      2  \n",
       "3         15      2  \n",
       "4         92      2  \n",
       "\n",
       "[5 rows x 2353 columns]"
      ]
     },
     "execution_count": 4,
     "metadata": {},
     "output_type": "execute_result"
    }
   ],
   "source": [
    "data = pd.read_csv('/kaggle/input/skin-cancer-mnist-ham10000/hmnist_28_28_RGB.csv')\n",
    "data.head()"
   ]
  },
  {
   "cell_type": "code",
   "execution_count": 5,
   "metadata": {
    "execution": {
     "iopub.execute_input": "2023-06-20T04:36:07.208352Z",
     "iopub.status.busy": "2023-06-20T04:36:07.207927Z",
     "iopub.status.idle": "2023-06-20T04:36:07.214261Z",
     "shell.execute_reply": "2023-06-20T04:36:07.213166Z",
     "shell.execute_reply.started": "2023-06-20T04:36:07.208321Z"
    }
   },
   "outputs": [],
   "source": [
    "# Assigning labels to encoded classes (for informational purposes only)\n",
    "\n",
    "classes = {4: ('nv', ' melanocytic nevi'), 6: ('mel', 'melanoma'), 2 :('bkl', 'benign keratosis-like lesions'),\n",
    "           1:('bcc' , ' basal cell carcinoma'), 5: ('vasc', ' pyogenic granulomas and hemorrhage'), \n",
    "           0: ('akiec', 'Actinic keratoses and intraepithelial carcinomae'),  3: ('df', 'dermatofibroma')}"
   ]
  },
  {
   "cell_type": "code",
   "execution_count": 6,
   "metadata": {
    "execution": {
     "iopub.execute_input": "2023-06-20T04:36:07.765848Z",
     "iopub.status.busy": "2023-06-20T04:36:07.765440Z",
     "iopub.status.idle": "2023-06-20T04:36:07.782557Z",
     "shell.execute_reply": "2023-06-20T04:36:07.781324Z",
     "shell.execute_reply.started": "2023-06-20T04:36:07.765805Z"
    }
   },
   "outputs": [
    {
     "data": {
      "text/plain": [
       "{' melanocytic nevi': 6705,\n",
       " 'melanoma': 1113,\n",
       " 'benign keratosis-like lesions': 1099,\n",
       " ' basal cell carcinoma': 514,\n",
       " 'Actinic keratoses and intraepithelial carcinomae': 327,\n",
       " ' pyogenic granulomas and hemorrhage': 142,\n",
       " 'dermatofibroma': 115}"
      ]
     },
     "execution_count": 6,
     "metadata": {},
     "output_type": "execute_result"
    }
   ],
   "source": [
    "#Checking the dataset: Is the dataset biased or not?\n",
    "\n",
    "first = [classes[i][1] for i in list(data['label'].value_counts().index)]\n",
    "sec = list(data['label'].value_counts().values)\n",
    "last = dict(zip(first,sec))\n",
    "last"
   ]
  },
  {
   "cell_type": "code",
   "execution_count": 26,
   "metadata": {
    "execution": {
     "iopub.execute_input": "2023-06-20T06:02:04.487462Z",
     "iopub.status.busy": "2023-06-20T06:02:04.486746Z",
     "iopub.status.idle": "2023-06-20T06:02:04.553612Z",
     "shell.execute_reply": "2023-06-20T06:02:04.552338Z",
     "shell.execute_reply.started": "2023-06-20T06:02:04.487427Z"
    }
   },
   "outputs": [],
   "source": [
    "# Divide the dataset into dependent and independent variables\n",
    "\n",
    "x = data.drop(['label'],axis = 1)\n",
    "y = data['label']"
   ]
  },
  {
   "cell_type": "code",
   "execution_count": 27,
   "metadata": {
    "execution": {
     "iopub.execute_input": "2023-06-20T06:02:05.717014Z",
     "iopub.status.busy": "2023-06-20T06:02:05.716354Z",
     "iopub.status.idle": "2023-06-20T06:02:06.012702Z",
     "shell.execute_reply": "2023-06-20T06:02:06.011661Z",
     "shell.execute_reply.started": "2023-06-20T06:02:05.716980Z"
    }
   },
   "outputs": [],
   "source": [
    "# Scale the data.\n",
    "\n",
    "scaler = MinMaxScaler()\n",
    "x = scaler.fit_transform(x)"
   ]
  },
  {
   "cell_type": "code",
   "execution_count": 28,
   "metadata": {
    "execution": {
     "iopub.execute_input": "2023-06-20T06:02:07.077138Z",
     "iopub.status.busy": "2023-06-20T06:02:07.076753Z",
     "iopub.status.idle": "2023-06-20T06:02:07.361861Z",
     "shell.execute_reply": "2023-06-20T06:02:07.360745Z",
     "shell.execute_reply.started": "2023-06-20T06:02:07.077110Z"
    }
   },
   "outputs": [],
   "source": [
    "# Split the dataset into train and test sets\n",
    "\n",
    "x_train, x_test, y_train, y_test = train_test_split(x, y, test_size=0.2, random_state=42)"
   ]
  },
  {
   "cell_type": "code",
   "execution_count": 29,
   "metadata": {
    "execution": {
     "iopub.execute_input": "2023-06-20T06:02:10.934286Z",
     "iopub.status.busy": "2023-06-20T06:02:10.933852Z",
     "iopub.status.idle": "2023-06-20T06:02:12.793377Z",
     "shell.execute_reply": "2023-06-20T06:02:12.792317Z",
     "shell.execute_reply.started": "2023-06-20T06:02:10.934253Z"
    }
   },
   "outputs": [],
   "source": [
    "# The data is biased, with a larger number of observations for the class \"melanocytic nevi\" (class 4)\n",
    "# To mitigate this bias, we follow the steps outlined below\n",
    "\n",
    "# Apply SMOTE to oversample the minority classes\n",
    "smote = SMOTE(random_state=42)\n",
    "x_train_resampled, y_train_resampled = smote.fit_resample(x_train, y_train)\n",
    "\n",
    "# Apply RandomUnderSampler to undersample the majority class\n",
    "rus = RandomUnderSampler(random_state=42)\n",
    "x_train_resampled, y_train_resampled = rus.fit_resample(x_train_resampled, y_train_resampled)"
   ]
  },
  {
   "cell_type": "code",
   "execution_count": 30,
   "metadata": {
    "execution": {
     "iopub.execute_input": "2023-06-20T06:02:12.795512Z",
     "iopub.status.busy": "2023-06-20T06:02:12.795136Z",
     "iopub.status.idle": "2023-06-20T06:02:13.020172Z",
     "shell.execute_reply": "2023-06-20T06:02:13.019203Z",
     "shell.execute_reply.started": "2023-06-20T06:02:12.795482Z"
    }
   },
   "outputs": [],
   "source": [
    "# Extract the validation sets from the training data\n",
    "\n",
    "x_train1, x_val, y_train1, y_val = train_test_split(x_train_resampled, y_train_resampled, test_size=0.2, random_state=42)"
   ]
  },
  {
   "cell_type": "code",
   "execution_count": 31,
   "metadata": {
    "execution": {
     "iopub.execute_input": "2023-06-20T06:02:15.078621Z",
     "iopub.status.busy": "2023-06-20T06:02:15.078085Z",
     "iopub.status.idle": "2023-06-20T06:02:15.087690Z",
     "shell.execute_reply": "2023-06-20T06:02:15.086571Z",
     "shell.execute_reply.started": "2023-06-20T06:02:15.078571Z"
    }
   },
   "outputs": [
    {
     "data": {
      "text/plain": [
       "3    4328\n",
       "2    4302\n",
       "6    4298\n",
       "1    4297\n",
       "4    4284\n",
       "0    4274\n",
       "5    4272\n",
       "Name: label, dtype: int64"
      ]
     },
     "execution_count": 31,
     "metadata": {},
     "output_type": "execute_result"
    }
   ],
   "source": [
    "y_train1.value_counts()"
   ]
  },
  {
   "cell_type": "code",
   "execution_count": 32,
   "metadata": {
    "execution": {
     "iopub.execute_input": "2023-06-20T06:02:16.469654Z",
     "iopub.status.busy": "2023-06-20T06:02:16.468617Z",
     "iopub.status.idle": "2023-06-20T06:02:16.745102Z",
     "shell.execute_reply": "2023-06-20T06:02:16.744144Z",
     "shell.execute_reply.started": "2023-06-20T06:02:16.469616Z"
    }
   },
   "outputs": [],
   "source": [
    "# Reshape the datasets to fit the CNN model\n",
    "\n",
    "x_train1 = np.array(x_train1).reshape(-1,28,28,3)\n",
    "x_val = np.array(x_val).reshape(-1,28,28,3)\n",
    "x_test = np.array(x_test).reshape(-1,28,28,3)"
   ]
  },
  {
   "cell_type": "code",
   "execution_count": 33,
   "metadata": {
    "execution": {
     "iopub.execute_input": "2023-06-20T06:02:19.285814Z",
     "iopub.status.busy": "2023-06-20T06:02:19.284854Z",
     "iopub.status.idle": "2023-06-20T06:02:19.430614Z",
     "shell.execute_reply": "2023-06-20T06:02:19.429615Z",
     "shell.execute_reply.started": "2023-06-20T06:02:19.285776Z"
    }
   },
   "outputs": [],
   "source": [
    "# Creating the CNN Model\n",
    "\n",
    "model = Sequential()\n",
    "model.add(Conv2D(256, kernel_size=(3, 3), input_shape=(28, 28, 3), activation='relu', padding='same'))\n",
    "model.add(Conv2D(256, kernel_size=(3, 3), activation='relu'))\n",
    "model.add(MaxPool2D(pool_size=(2, 2)))\n",
    "# model.add(Dropout(0.6))  # Added dropout layer\n",
    "\n",
    "model.add(Conv2D(128, kernel_size=(3, 3), activation='relu', padding='same'))\n",
    "model.add(Conv2D(128, kernel_size=(3, 3), activation='relu'))\n",
    "model.add(MaxPool2D(pool_size=(2, 2), padding='same'))\n",
    "\n",
    "# # model.add(Dropout(0.6))  # Added dropout layer\n",
    "# model.add(Conv2D(64, kernel_size=(3, 3), activation='relu', padding='same'))\n",
    "# model.add(Conv2D(64, kernel_size=(3, 3), activation='relu'))\n",
    "# model.add(MaxPool2D(pool_size=(2, 2), padding='same'))\n",
    "\n",
    "# model.add(Dropout(0.6))  # Added dropout layer\n",
    "model.add(Conv2D(32, kernel_size=(3, 3), activation='relu', padding='same'))\n",
    "# model.add(Conv2D(32, kernel_size=(3, 3), activation='relu'))\n",
    "model.add(MaxPool2D(pool_size=(2, 2), padding='same'))\n",
    "\n",
    "model.add(Flatten())\n",
    "model.add(Dense(64, activation='relu'))\n",
    "# model.add(Dropout(0.6))  # Added dropout layer\n",
    "model.add(Dense(64, activation='relu'))\n",
    "# model.add(Dropout(0.6))  # Added dropout layer\n",
    "model.add(Dense(7, activation='softmax'))"
   ]
  },
  {
   "cell_type": "code",
   "execution_count": 34,
   "metadata": {
    "execution": {
     "iopub.execute_input": "2023-06-20T06:02:21.797697Z",
     "iopub.status.busy": "2023-06-20T06:02:21.797295Z",
     "iopub.status.idle": "2023-06-20T08:38:44.478570Z",
     "shell.execute_reply": "2023-06-20T08:38:44.476765Z",
     "shell.execute_reply.started": "2023-06-20T06:02:21.797667Z"
    }
   },
   "outputs": [
    {
     "name": "stdout",
     "output_type": "stream",
     "text": [
      "Epoch 1/10\n",
      "1879/1879 [==============================] - 942s 500ms/step - loss: 1.4192 - accuracy: 0.4146 - val_loss: 0.9971 - val_accuracy: 0.6059\n",
      "Epoch 2/10\n",
      "1879/1879 [==============================] - 943s 502ms/step - loss: 0.7578 - accuracy: 0.7101 - val_loss: 0.6141 - val_accuracy: 0.7655\n",
      "Epoch 3/10\n",
      "1879/1879 [==============================] - 944s 502ms/step - loss: 0.5370 - accuracy: 0.7963 - val_loss: 0.6028 - val_accuracy: 0.7675\n",
      "Epoch 4/10\n",
      "1879/1879 [==============================] - 914s 487ms/step - loss: 0.4336 - accuracy: 0.8387 - val_loss: 0.3677 - val_accuracy: 0.8637\n",
      "Epoch 5/10\n",
      "1879/1879 [==============================] - 938s 499ms/step - loss: 0.3544 - accuracy: 0.8675 - val_loss: 0.3420 - val_accuracy: 0.8782\n",
      "Epoch 6/10\n",
      "1879/1879 [==============================] - 935s 498ms/step - loss: 0.3089 - accuracy: 0.8845 - val_loss: 0.3468 - val_accuracy: 0.8786\n",
      "Epoch 7/10\n",
      "1879/1879 [==============================] - 938s 499ms/step - loss: 0.2777 - accuracy: 0.8953 - val_loss: 0.2923 - val_accuracy: 0.8923\n",
      "Epoch 8/10\n",
      "1879/1879 [==============================] - 938s 499ms/step - loss: 0.2494 - accuracy: 0.9082 - val_loss: 0.2502 - val_accuracy: 0.9110\n",
      "Epoch 9/10\n",
      "1879/1879 [==============================] - 943s 502ms/step - loss: 0.2239 - accuracy: 0.9195 - val_loss: 0.3176 - val_accuracy: 0.8869\n",
      "Epoch 10/10\n",
      "1879/1879 [==============================] - 946s 504ms/step - loss: 0.2086 - accuracy: 0.9225 - val_loss: 0.3380 - val_accuracy: 0.8846\n"
     ]
    }
   ],
   "source": [
    "# Compiling the Model and Implementing Early Stopping\n",
    "\n",
    "model.compile(loss='sparse_categorical_crossentropy', optimizer='adam', metrics=['accuracy'])\n",
    "\n",
    "# Define the EarlyStopping callback\n",
    "early_stopping = EarlyStopping(monitor='val_loss', patience=5, restore_best_weights=True)\n",
    "\n",
    "# Train the model using the separate training and validation sets\n",
    "history = model.fit(\n",
    "    x_train1,\n",
    "    y_train1,\n",
    "    validation_data=(x_val, y_val),\n",
    "    batch_size=16,\n",
    "    epochs=10,\n",
    "    callbacks=[early_stopping]\n",
    ")"
   ]
  },
  {
   "cell_type": "code",
   "execution_count": 35,
   "metadata": {
    "execution": {
     "iopub.execute_input": "2023-06-20T08:40:52.672430Z",
     "iopub.status.busy": "2023-06-20T08:40:52.671901Z",
     "iopub.status.idle": "2023-06-20T08:41:09.226555Z",
     "shell.execute_reply": "2023-06-20T08:41:09.225327Z",
     "shell.execute_reply.started": "2023-06-20T08:40:52.672394Z"
    }
   },
   "outputs": [
    {
     "name": "stdout",
     "output_type": "stream",
     "text": [
      "63/63 [==============================] - 16s 257ms/step\n",
      "Train Predictions: [2 6 6 ... 0 6 4]\n"
     ]
    }
   ],
   "source": [
    "# Prediction\n",
    "\n",
    "y_pred = model.predict(x_test)\n",
    "\n",
    "# Convert predictions to class labels\n",
    "y_pred_labels = np.argmax(y_pred, axis=1)\n",
    "\n",
    "# Print the predicted labels\n",
    "print(\"Train Predictions:\", y_pred_labels)"
   ]
  },
  {
   "cell_type": "code",
   "execution_count": 36,
   "metadata": {
    "execution": {
     "iopub.execute_input": "2023-06-20T08:41:12.831572Z",
     "iopub.status.busy": "2023-06-20T08:41:12.831132Z",
     "iopub.status.idle": "2023-06-20T08:41:12.864140Z",
     "shell.execute_reply": "2023-06-20T08:41:12.863262Z",
     "shell.execute_reply.started": "2023-06-20T08:41:12.831541Z"
    }
   },
   "outputs": [
    {
     "name": "stdout",
     "output_type": "stream",
     "text": [
      "Overall Accuracy: 0.5801298052920619\n",
      "Confusion Matrix:\n",
      "[[ 24   7  15   1   6   0  16]\n",
      " [ 19  32  17   0  10   2  13]\n",
      " [ 26   4  80   1  30   2  85]\n",
      " [  0   4   7   4   3   1   9]\n",
      " [ 29  32 107   4 848   5 313]\n",
      " [  0   1   1   0   4  14   1]\n",
      " [ 10   6  21   0  28   1 160]]\n",
      "Overall Recall: 0.45629421093781175\n",
      "Classification Report:\n",
      "              precision    recall  f1-score   support\n",
      "\n",
      "           0       0.22      0.35      0.27        69\n",
      "           1       0.37      0.34      0.36        93\n",
      "           2       0.32      0.35      0.34       228\n",
      "           3       0.40      0.14      0.21        28\n",
      "           4       0.91      0.63      0.75      1338\n",
      "           5       0.56      0.67      0.61        21\n",
      "           6       0.27      0.71      0.39       226\n",
      "\n",
      "    accuracy                           0.58      2003\n",
      "   macro avg       0.44      0.46      0.42      2003\n",
      "weighted avg       0.71      0.58      0.62      2003\n",
      "\n"
     ]
    }
   ],
   "source": [
    "#Accuracy Assesment\n",
    "\n",
    "# Calculate overall accuracy\n",
    "overall_accuracy = accuracy_score(y_test, y_pred_labels)\n",
    "print(\"Overall Accuracy:\", overall_accuracy)\n",
    "\n",
    "# Generate confusion matrix\n",
    "cm = confusion_matrix(y_test, y_pred_labels)\n",
    "print(\"Confusion Matrix:\")\n",
    "print(cm)\n",
    "\n",
    "# Calculate overall recall\n",
    "overall_recall = recall_score(y_test, y_pred_labels, average='macro')\n",
    "print(\"Overall Recall:\", overall_recall)\n",
    "\n",
    "# Generate classification report\n",
    "report = classification_report(y_test, y_pred_labels)\n",
    "print(\"Classification Report:\")\n",
    "print(report)"
   ]
  },
  {
   "cell_type": "code",
   "execution_count": null,
   "metadata": {},
   "outputs": [],
   "source": []
  }
 ],
 "metadata": {
  "kernelspec": {
   "display_name": "Python 3 (ipykernel)",
   "language": "python",
   "name": "python3"
  },
  "language_info": {
   "codemirror_mode": {
    "name": "ipython",
    "version": 3
   },
   "file_extension": ".py",
   "mimetype": "text/x-python",
   "name": "python",
   "nbconvert_exporter": "python",
   "pygments_lexer": "ipython3",
   "version": "3.9.12"
  }
 },
 "nbformat": 4,
 "nbformat_minor": 4
}
